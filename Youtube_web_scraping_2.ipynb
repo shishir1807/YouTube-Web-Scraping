{
  "nbformat": 4,
  "nbformat_minor": 0,
  "metadata": {
    "colab": {
      "name": "Youtube_web_scraping 2.ipynb",
      "provenance": [],
      "collapsed_sections": []
    },
    "kernelspec": {
      "name": "python3",
      "display_name": "Python 3"
    },
    "language_info": {
      "name": "python"
    }
  },
  "cells": [
    {
      "cell_type": "code",
      "source": [
        "import os\n",
        "import google_auth_oauthlib.flow\n",
        "import googleapiclient.discovery\n",
        "import googleapiclient.errors\n",
        "import pandas as pd\n",
        "from googleapiclient.discovery import build\n",
        "from youtube_transcript_api import YouTubeTranscriptApi  "
      ],
      "metadata": {
        "id": "wE0qkKYBDI2G"
      },
      "execution_count": 6,
      "outputs": []
    },
    {
      "cell_type": "markdown",
      "source": [
        "**Retriving Video IDs for respective keyword according to provided timeline**"
      ],
      "metadata": {
        "id": "98ykvLDW7Dwy"
      }
    },
    {
      "cell_type": "code",
      "source": [
        "scopes = [\"https://www.googleapis.com/auth/youtube.force-ssl\"]\n",
        "\n",
        "\n",
        "def main():\n",
        "    os.environ[\"OAUTHLIB_INSECURE_TRANSPORT\"] = \"1\"\n",
        "    api_service_name = \"youtube\"\n",
        "    api_version = \"v3\"\n",
        "    client_secrets_file = \"cs.json\"\n",
        "    flow = google_auth_oauthlib.flow.InstalledAppFlow.from_client_secrets_file(client_secrets_file, scopes)\n",
        "    credentials = flow.run_console()\n",
        "    youtube = googleapiclient.discovery.build(\n",
        "    api_service_name, api_version, credentials=credentials)\n",
        "    request = youtube.search().list(part='snippet',maxResults=50,q=\"Metastatic CRPC\",publishedAfter='2022-08-11T00:00:00Z',publishedBefore='2022-08-18T00:00:00Z',order='date')\n",
        "    response = request.execute()\n",
        "    \n",
        "    video_id = []\n",
        "    \n",
        "    for i in range(len(response['items'])):\n",
        "        video_id.append(response['items'][i]['id']['videoId'])\n",
        "        \n",
        "    next_page_token = response.get('nextPageToken')\n",
        "    more_pages = True\n",
        "    \n",
        "    while more_pages:\n",
        "        if next_page_token is None:\n",
        "            more_pages = False\n",
        "        else:\n",
        "            request = youtube.search().list(part='snippet',maxResults=50,q=\"Metastatic CRPC\",pageToken = next_page_token,publishedAfter='2022-08-11T00:00:00Z',publishedBefore='2022-08-18T00:00:00Z',order='date')\n",
        "            response = request.execute()\n",
        "    \n",
        "            for i in range(len(response['items'])):\n",
        "              try:\n",
        "                video_id.append(response['items'][i]['id']['videoId'])\n",
        "              except:\n",
        "                pass\n",
        "            \n",
        "            next_page_token = response.get('nextPageToken')\n",
        "    \n",
        "    channel_data = pd.DataFrame(video_id)    \n",
        "    return channel_data\n",
        "\n",
        "video_id = main()\n",
        "try:\n",
        "  vid = video_id[0].tolist()\n",
        "  vid\n",
        "except:\n",
        "  print(\"No videos Available\")\n",
        "\n",
        "\n"
      ],
      "metadata": {
        "id": "iekKKBG-JufN"
      },
      "execution_count": null,
      "outputs": []
    },
    {
      "cell_type": "markdown",
      "source": [
        "**Checking Availability of transcripts**\n"
      ],
      "metadata": {
        "id": "YjyqZsAI3doz"
      }
    },
    {
      "cell_type": "code",
      "source": [
        "try:\n",
        "  final=[]\n",
        "  for i in vid:\n",
        "    try:\n",
        "      transcript_list = YouTubeTranscriptApi.list_transcripts(i)\n",
        "      for transcript in transcript_list:\n",
        "        final.append({i:transcript.is_generated})\n",
        "    except:\n",
        "      final.append({i:False})  \n",
        "  d = {k:v for x in final for k,v in x.items()}\n",
        "  d\n",
        "except:\n",
        "  print(\"No videos hence no transcripts\") \n"
      ],
      "metadata": {
        "id": "gTYMRo1taw7x"
      },
      "execution_count": null,
      "outputs": []
    },
    {
      "cell_type": "markdown",
      "source": [
        "**Retriving the English transcripts**"
      ],
      "metadata": {
        "id": "i3K9-Qwu3rrw"
      }
    },
    {
      "cell_type": "code",
      "source": [
        "try:\n",
        "  output = []\n",
        "  for key, value in d.items():\n",
        "    if value==True:\n",
        "      try:\n",
        "        srt = YouTubeTranscriptApi.get_transcript(key,languages=['en'])\n",
        "        df1 = pd.DataFrame(srt)\n",
        "        output.append({key:' '.join(df1['text'])})\n",
        "      except:\n",
        "        output.append({key:\"Not Available in English\"})\n",
        "    else:\n",
        "        output.append({key:'No transcript'})\n",
        "except:\n",
        "  print(\"No videos hence no transcripts\")\n",
        "\n",
        "        "
      ],
      "metadata": {
        "id": "bL6Zk5hUiyVD"
      },
      "execution_count": null,
      "outputs": []
    },
    {
      "cell_type": "code",
      "source": [
        "output\n"
      ],
      "metadata": {
        "id": "D01EwVvwoMw-"
      },
      "execution_count": null,
      "outputs": []
    }
  ]
}